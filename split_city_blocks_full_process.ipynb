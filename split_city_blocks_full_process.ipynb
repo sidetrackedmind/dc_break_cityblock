{
 "cells": [
  {
   "cell_type": "code",
   "execution_count": 4,
   "metadata": {},
   "outputs": [],
   "source": [
    "import split_blocks as sb\n",
    "import pandas as pd\n",
    "import geopandas as gpd\n",
    "import multiprocessing"
   ]
  },
  {
   "cell_type": "code",
   "execution_count": 5,
   "metadata": {},
   "outputs": [],
   "source": [
    "import numpy as np\n",
    "from shapely.geometry import Polygon"
   ]
  },
  {
   "cell_type": "code",
   "execution_count": 3,
   "metadata": {},
   "outputs": [],
   "source": [
    "%load_ext autoreload\n",
    "%autoreload 2"
   ]
  },
  {
   "cell_type": "code",
   "execution_count": 4,
   "metadata": {},
   "outputs": [],
   "source": [
    "squares = gpd.read_file(\"gis_data/Square_Boundaries-shp/\")"
   ]
  },
  {
   "cell_type": "code",
   "execution_count": 5,
   "metadata": {},
   "outputs": [],
   "source": [
    "squares_list = squares.loc[:,'SQUARE'].unique().tolist()"
   ]
  },
  {
   "cell_type": "code",
   "execution_count": 6,
   "metadata": {},
   "outputs": [
    {
     "data": {
      "text/plain": [
       "4420"
      ]
     },
     "execution_count": 6,
     "metadata": {},
     "output_type": "execute_result"
    }
   ],
   "source": [
    "square_list_len = len(squares_list)\n",
    "square_list_len"
   ]
  },
  {
   "cell_type": "code",
   "execution_count": 23,
   "metadata": {},
   "outputs": [],
   "source": [
    "pool = multiprocessing.Pool(3)"
   ]
  },
  {
   "cell_type": "code",
   "execution_count": 24,
   "metadata": {},
   "outputs": [],
   "source": [
    "# partial_list = squares_list[:5]"
   ]
  },
  {
   "cell_type": "markdown",
   "metadata": {},
   "source": [
    "# to do - sort list"
   ]
  },
  {
   "cell_type": "code",
   "execution_count": 25,
   "metadata": {},
   "outputs": [],
   "source": [
    "result_parallel = pd.concat(pool.map(sb.split_on_poly_by_streetname, squares_list))\n",
    "pool.close()\n",
    "pool.join()"
   ]
  },
  {
   "cell_type": "code",
   "execution_count": 26,
   "metadata": {},
   "outputs": [
    {
     "data": {
      "text/html": [
       "<div>\n",
       "<style scoped>\n",
       "    .dataframe tbody tr th:only-of-type {\n",
       "        vertical-align: middle;\n",
       "    }\n",
       "\n",
       "    .dataframe tbody tr th {\n",
       "        vertical-align: top;\n",
       "    }\n",
       "\n",
       "    .dataframe thead th {\n",
       "        text-align: right;\n",
       "    }\n",
       "</style>\n",
       "<table border=\"1\" class=\"dataframe\">\n",
       "  <thead>\n",
       "    <tr style=\"text-align: right;\">\n",
       "      <th></th>\n",
       "      <th>group</th>\n",
       "      <th>geometry</th>\n",
       "      <th>SQUARE</th>\n",
       "      <th>SSL</th>\n",
       "      <th>STNAME</th>\n",
       "      <th>SQUARE_PART</th>\n",
       "    </tr>\n",
       "  </thead>\n",
       "  <tbody>\n",
       "    <tr>\n",
       "      <th>0</th>\n",
       "      <td>23</td>\n",
       "      <td>POLYGON ((-77.00704 38.82496, -77.00716 38.824...</td>\n",
       "      <td>6239</td>\n",
       "      <td>6239S   0037</td>\n",
       "      <td>FORRESTER</td>\n",
       "      <td>1.0</td>\n",
       "    </tr>\n",
       "    <tr>\n",
       "      <th>1</th>\n",
       "      <td>20</td>\n",
       "      <td>POLYGON ((-77.01010 38.82431, -77.01010 38.824...</td>\n",
       "      <td>6239</td>\n",
       "      <td>6239S   0052</td>\n",
       "      <td>GALVESTON</td>\n",
       "      <td>1.0</td>\n",
       "    </tr>\n",
       "    <tr>\n",
       "      <th>2</th>\n",
       "      <td>6</td>\n",
       "      <td>POLYGON ((-77.01155 38.82401, -77.01159 38.823...</td>\n",
       "      <td>6239</td>\n",
       "      <td>6239S   0054</td>\n",
       "      <td>MARTIN LUTHER KING JR</td>\n",
       "      <td>1.0</td>\n",
       "    </tr>\n",
       "  </tbody>\n",
       "</table>\n",
       "</div>"
      ],
      "text/plain": [
       "   group                                           geometry SQUARE  \\\n",
       "0     23  POLYGON ((-77.00704 38.82496, -77.00716 38.824...   6239   \n",
       "1     20  POLYGON ((-77.01010 38.82431, -77.01010 38.824...   6239   \n",
       "2      6  POLYGON ((-77.01155 38.82401, -77.01159 38.823...   6239   \n",
       "\n",
       "            SSL                 STNAME  SQUARE_PART  \n",
       "0  6239S   0037              FORRESTER          1.0  \n",
       "1  6239S   0052              GALVESTON          1.0  \n",
       "2  6239S   0054  MARTIN LUTHER KING JR          1.0  "
      ]
     },
     "execution_count": 26,
     "metadata": {},
     "output_type": "execute_result"
    }
   ],
   "source": [
    "result_parallel.head(3)"
   ]
  },
  {
   "cell_type": "code",
   "execution_count": 27,
   "metadata": {},
   "outputs": [],
   "source": [
    "result_parallel.to_file(\"output/result_street_dissolve.geojson\",driver=\"GeoJSON\")"
   ]
  },
  {
   "cell_type": "code",
   "execution_count": null,
   "metadata": {},
   "outputs": [],
   "source": []
  },
  {
   "cell_type": "code",
   "execution_count": null,
   "metadata": {},
   "outputs": [],
   "source": []
  },
  {
   "cell_type": "code",
   "execution_count": 17,
   "metadata": {
    "scrolled": true
   },
   "outputs": [],
   "source": [
    "result = pd.DataFrame()\n",
    "for idx, shape_id in enumerate(squares_list):\n",
    "    logging.info(f\"working on shape_id: {shape_id} number {idx+1} of {square_list_len}\")\n",
    "    try:\n",
    "        part_result = split_one_poly_into_parts(shape_id)\n",
    "        if result.empty:\n",
    "            result = part_result.copy()\n",
    "        else:\n",
    "            result = result.append(part_result)\n",
    "    except:\n",
    "        logging.info(f\"bad shape -- {shape_id}\")\n",
    "    if idx%100 == 0:\n",
    "        result.to_file(\"output/result_address_polysplit.geojson\",driver=\"GeoJSON\")"
   ]
  },
  {
   "cell_type": "code",
   "execution_count": 18,
   "metadata": {},
   "outputs": [],
   "source": [
    "result.to_file(\"output/result_address_polysplit.geojson\",driver=\"GeoJSON\")"
   ]
  },
  {
   "cell_type": "code",
   "execution_count": 24,
   "metadata": {
    "scrolled": false
   },
   "outputs": [
    {
     "data": {
      "text/html": [
       "<div>\n",
       "<style scoped>\n",
       "    .dataframe tbody tr th:only-of-type {\n",
       "        vertical-align: middle;\n",
       "    }\n",
       "\n",
       "    .dataframe tbody tr th {\n",
       "        vertical-align: top;\n",
       "    }\n",
       "\n",
       "    .dataframe thead th {\n",
       "        text-align: right;\n",
       "    }\n",
       "</style>\n",
       "<table border=\"1\" class=\"dataframe\">\n",
       "  <thead>\n",
       "    <tr style=\"text-align: right;\">\n",
       "      <th></th>\n",
       "      <th>group</th>\n",
       "      <th>geometry</th>\n",
       "      <th>SQUARE</th>\n",
       "      <th>SQUARE_PART</th>\n",
       "    </tr>\n",
       "  </thead>\n",
       "  <tbody>\n",
       "    <tr>\n",
       "      <th>0</th>\n",
       "      <td>0</td>\n",
       "      <td>POLYGON ((-77.00821 38.82441, -77.00802 38.823...</td>\n",
       "      <td>6239</td>\n",
       "      <td>1</td>\n",
       "    </tr>\n",
       "    <tr>\n",
       "      <th>1</th>\n",
       "      <td>3</td>\n",
       "      <td>POLYGON ((-77.00802 38.82391, -77.00821 38.824...</td>\n",
       "      <td>6239</td>\n",
       "      <td>1</td>\n",
       "    </tr>\n",
       "    <tr>\n",
       "      <th>2</th>\n",
       "      <td>2</td>\n",
       "      <td>POLYGON ((-77.01059 38.82431, -77.01051 38.823...</td>\n",
       "      <td>6239</td>\n",
       "      <td>1</td>\n",
       "    </tr>\n",
       "    <tr>\n",
       "      <th>3</th>\n",
       "      <td>1</td>\n",
       "      <td>POLYGON ((-77.00800 38.82374, -77.00802 38.823...</td>\n",
       "      <td>6239</td>\n",
       "      <td>1</td>\n",
       "    </tr>\n",
       "    <tr>\n",
       "      <th>0</th>\n",
       "      <td>3</td>\n",
       "      <td>POLYGON ((-77.01025 38.82448, -77.01009 38.825...</td>\n",
       "      <td>6239</td>\n",
       "      <td>2</td>\n",
       "    </tr>\n",
       "    <tr>\n",
       "      <th>1</th>\n",
       "      <td>0</td>\n",
       "      <td>POLYGON ((-77.01009 38.82513, -77.01025 38.824...</td>\n",
       "      <td>6239</td>\n",
       "      <td>2</td>\n",
       "    </tr>\n",
       "    <tr>\n",
       "      <th>2</th>\n",
       "      <td>1</td>\n",
       "      <td>POLYGON ((-77.01025 38.82448, -77.01025 38.824...</td>\n",
       "      <td>6239</td>\n",
       "      <td>2</td>\n",
       "    </tr>\n",
       "    <tr>\n",
       "      <th>3</th>\n",
       "      <td>2</td>\n",
       "      <td>POLYGON ((-77.00878 38.82451, -77.00915 38.825...</td>\n",
       "      <td>6239</td>\n",
       "      <td>2</td>\n",
       "    </tr>\n",
       "    <tr>\n",
       "      <th>0</th>\n",
       "      <td>3</td>\n",
       "      <td>POLYGON ((-77.07043 38.91402, -77.07000 38.914...</td>\n",
       "      <td>1303</td>\n",
       "      <td>1</td>\n",
       "    </tr>\n",
       "    <tr>\n",
       "      <th>1</th>\n",
       "      <td>1</td>\n",
       "      <td>POLYGON ((-77.07000 38.91439, -77.07043 38.914...</td>\n",
       "      <td>1303</td>\n",
       "      <td>1</td>\n",
       "    </tr>\n",
       "    <tr>\n",
       "      <th>2</th>\n",
       "      <td>0</td>\n",
       "      <td>POLYGON ((-77.07043 38.91402, -77.07042 38.913...</td>\n",
       "      <td>1303</td>\n",
       "      <td>1</td>\n",
       "    </tr>\n",
       "    <tr>\n",
       "      <th>3</th>\n",
       "      <td>2</td>\n",
       "      <td>POLYGON ((-77.06986 38.91389, -77.07000 38.914...</td>\n",
       "      <td>1303</td>\n",
       "      <td>1</td>\n",
       "    </tr>\n",
       "  </tbody>\n",
       "</table>\n",
       "</div>"
      ],
      "text/plain": [
       "   group                                           geometry SQUARE  \\\n",
       "0      0  POLYGON ((-77.00821 38.82441, -77.00802 38.823...   6239   \n",
       "1      3  POLYGON ((-77.00802 38.82391, -77.00821 38.824...   6239   \n",
       "2      2  POLYGON ((-77.01059 38.82431, -77.01051 38.823...   6239   \n",
       "3      1  POLYGON ((-77.00800 38.82374, -77.00802 38.823...   6239   \n",
       "0      3  POLYGON ((-77.01025 38.82448, -77.01009 38.825...   6239   \n",
       "1      0  POLYGON ((-77.01009 38.82513, -77.01025 38.824...   6239   \n",
       "2      1  POLYGON ((-77.01025 38.82448, -77.01025 38.824...   6239   \n",
       "3      2  POLYGON ((-77.00878 38.82451, -77.00915 38.825...   6239   \n",
       "0      3  POLYGON ((-77.07043 38.91402, -77.07000 38.914...   1303   \n",
       "1      1  POLYGON ((-77.07000 38.91439, -77.07043 38.914...   1303   \n",
       "2      0  POLYGON ((-77.07043 38.91402, -77.07042 38.913...   1303   \n",
       "3      2  POLYGON ((-77.06986 38.91389, -77.07000 38.914...   1303   \n",
       "\n",
       "   SQUARE_PART  \n",
       "0            1  \n",
       "1            1  \n",
       "2            1  \n",
       "3            1  \n",
       "0            2  \n",
       "1            2  \n",
       "2            2  \n",
       "3            2  \n",
       "0            1  \n",
       "1            1  \n",
       "2            1  \n",
       "3            1  "
      ]
     },
     "execution_count": 24,
     "metadata": {},
     "output_type": "execute_result"
    }
   ],
   "source": [
    "result_parallel"
   ]
  },
  {
   "cell_type": "code",
   "execution_count": 6,
   "metadata": {},
   "outputs": [],
   "source": [
    "address_polysplit = gpd.read_file(\"output/result_address_polysplit.geojson\")"
   ]
  },
  {
   "cell_type": "code",
   "execution_count": 7,
   "metadata": {},
   "outputs": [
    {
     "data": {
      "text/plain": [
       "<Geographic 2D CRS: EPSG:4326>\n",
       "Name: WGS 84\n",
       "Axis Info [ellipsoidal]:\n",
       "- Lat[north]: Geodetic latitude (degree)\n",
       "- Lon[east]: Geodetic longitude (degree)\n",
       "Area of Use:\n",
       "- name: World\n",
       "- bounds: (-180.0, -90.0, 180.0, 90.0)\n",
       "Datum: World Geodetic System 1984\n",
       "- Ellipsoid: WGS 84\n",
       "- Prime Meridian: Greenwich"
      ]
     },
     "execution_count": 7,
     "metadata": {},
     "output_type": "execute_result"
    }
   ],
   "source": [
    "address_polysplit.crs"
   ]
  },
  {
   "cell_type": "code",
   "execution_count": 10,
   "metadata": {},
   "outputs": [],
   "source": [
    "street_dissolve = gpd.read_file(\"output/block_polys_w_assessment.geojson\")"
   ]
  },
  {
   "cell_type": "code",
   "execution_count": 11,
   "metadata": {},
   "outputs": [
    {
     "data": {
      "text/plain": [
       "<Geographic 2D CRS: EPSG:4326>\n",
       "Name: WGS 84\n",
       "Axis Info [ellipsoidal]:\n",
       "- Lat[north]: Geodetic latitude (degree)\n",
       "- Lon[east]: Geodetic longitude (degree)\n",
       "Area of Use:\n",
       "- name: World\n",
       "- bounds: (-180.0, -90.0, 180.0, 90.0)\n",
       "Datum: World Geodetic System 1984\n",
       "- Ellipsoid: WGS 84\n",
       "- Prime Meridian: Greenwich"
      ]
     },
     "execution_count": 11,
     "metadata": {},
     "output_type": "execute_result"
    }
   ],
   "source": [
    "street_dissolve.crs"
   ]
  },
  {
   "cell_type": "code",
   "execution_count": null,
   "metadata": {},
   "outputs": [],
   "source": []
  }
 ],
 "metadata": {
  "kernelspec": {
   "display_name": "Python (sandbox)",
   "language": "python",
   "name": "sandbox"
  },
  "language_info": {
   "codemirror_mode": {
    "name": "ipython",
    "version": 3
   },
   "file_extension": ".py",
   "mimetype": "text/x-python",
   "name": "python",
   "nbconvert_exporter": "python",
   "pygments_lexer": "ipython3",
   "version": "3.8.2"
  }
 },
 "nbformat": 4,
 "nbformat_minor": 4
}
