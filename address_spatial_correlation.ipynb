{
 "cells": [
  {
   "cell_type": "code",
   "execution_count": 44,
   "metadata": {},
   "outputs": [],
   "source": [
    "import geopandas as gpd\n",
    "import pandas as pd\n",
    "import pysal\n",
    "from pysal.lib import weights\n",
    "from pysal.explore import esda\n",
    "import matplotlib.pyplot as plt\n",
    "%matplotlib inline\n",
    "import numpy as np"
   ]
  },
  {
   "cell_type": "code",
   "execution_count": 9,
   "metadata": {},
   "outputs": [],
   "source": [
    "addresses = gpd.read_file(\"gis_data/Address_Points-shp/\")"
   ]
  },
  {
   "cell_type": "code",
   "execution_count": 10,
   "metadata": {},
   "outputs": [],
   "source": [
    "block_polys = gpd.read_file(\"output/result_street_dissolve.geojson\")"
   ]
  },
  {
   "cell_type": "code",
   "execution_count": 18,
   "metadata": {},
   "outputs": [],
   "source": [
    "owner_lots = gpd.read_file(\"gis_data/Common_Ownership_Lots-shp/\")"
   ]
  },
  {
   "cell_type": "code",
   "execution_count": 14,
   "metadata": {},
   "outputs": [
    {
     "data": {
      "text/html": [
       "<div>\n",
       "<style scoped>\n",
       "    .dataframe tbody tr th:only-of-type {\n",
       "        vertical-align: middle;\n",
       "    }\n",
       "\n",
       "    .dataframe tbody tr th {\n",
       "        vertical-align: top;\n",
       "    }\n",
       "\n",
       "    .dataframe thead th {\n",
       "        text-align: right;\n",
       "    }\n",
       "</style>\n",
       "<table border=\"1\" class=\"dataframe\">\n",
       "  <thead>\n",
       "    <tr style=\"text-align: right;\">\n",
       "      <th></th>\n",
       "      <th>group</th>\n",
       "      <th>SQUARE</th>\n",
       "      <th>SSL</th>\n",
       "      <th>STNAME</th>\n",
       "      <th>SQUARE_PART</th>\n",
       "      <th>geometry</th>\n",
       "    </tr>\n",
       "  </thead>\n",
       "  <tbody>\n",
       "    <tr>\n",
       "      <th>0</th>\n",
       "      <td>23</td>\n",
       "      <td>6239</td>\n",
       "      <td>6239S   0037</td>\n",
       "      <td>FORRESTER</td>\n",
       "      <td>1.0</td>\n",
       "      <td>POLYGON ((-77.00704 38.82496, -77.00716 38.824...</td>\n",
       "    </tr>\n",
       "    <tr>\n",
       "      <th>1</th>\n",
       "      <td>20</td>\n",
       "      <td>6239</td>\n",
       "      <td>6239S   0052</td>\n",
       "      <td>GALVESTON</td>\n",
       "      <td>1.0</td>\n",
       "      <td>POLYGON ((-77.01010 38.82431, -77.01010 38.824...</td>\n",
       "    </tr>\n",
       "    <tr>\n",
       "      <th>2</th>\n",
       "      <td>6</td>\n",
       "      <td>6239</td>\n",
       "      <td>6239S   0054</td>\n",
       "      <td>MARTIN LUTHER KING JR</td>\n",
       "      <td>1.0</td>\n",
       "      <td>POLYGON ((-77.01155 38.82401, -77.01159 38.823...</td>\n",
       "    </tr>\n",
       "  </tbody>\n",
       "</table>\n",
       "</div>"
      ],
      "text/plain": [
       "   group SQUARE           SSL                 STNAME  SQUARE_PART  \\\n",
       "0     23   6239  6239S   0037              FORRESTER          1.0   \n",
       "1     20   6239  6239S   0052              GALVESTON          1.0   \n",
       "2      6   6239  6239S   0054  MARTIN LUTHER KING JR          1.0   \n",
       "\n",
       "                                            geometry  \n",
       "0  POLYGON ((-77.00704 38.82496, -77.00716 38.824...  \n",
       "1  POLYGON ((-77.01010 38.82431, -77.01010 38.824...  \n",
       "2  POLYGON ((-77.01155 38.82401, -77.01159 38.823...  "
      ]
     },
     "execution_count": 14,
     "metadata": {},
     "output_type": "execute_result"
    }
   ],
   "source": [
    "block_polys.head(3)"
   ]
  },
  {
   "cell_type": "code",
   "execution_count": 15,
   "metadata": {},
   "outputs": [
    {
     "data": {
      "text/html": [
       "<div>\n",
       "<style scoped>\n",
       "    .dataframe tbody tr th:only-of-type {\n",
       "        vertical-align: middle;\n",
       "    }\n",
       "\n",
       "    .dataframe tbody tr th {\n",
       "        vertical-align: top;\n",
       "    }\n",
       "\n",
       "    .dataframe thead th {\n",
       "        text-align: right;\n",
       "    }\n",
       "</style>\n",
       "<table border=\"1\" class=\"dataframe\">\n",
       "  <thead>\n",
       "    <tr style=\"text-align: right;\">\n",
       "      <th></th>\n",
       "      <th>OBJECTID_1</th>\n",
       "      <th>OBJECTID</th>\n",
       "      <th>SITE_ADDRE</th>\n",
       "      <th>ADDRESS_ID</th>\n",
       "      <th>ROADWAYSEG</th>\n",
       "      <th>STATUS</th>\n",
       "      <th>SSL</th>\n",
       "      <th>TYPE_</th>\n",
       "      <th>ENTRANCETY</th>\n",
       "      <th>ADDRNUM</th>\n",
       "      <th>...</th>\n",
       "      <th>ACTIVE_RES</th>\n",
       "      <th>RES_TYPE</th>\n",
       "      <th>ACTIVE_R_1</th>\n",
       "      <th>WARD_2002</th>\n",
       "      <th>WARD_2012</th>\n",
       "      <th>ANC_2002</th>\n",
       "      <th>ANC_2012</th>\n",
       "      <th>SMD_2002</th>\n",
       "      <th>SMD_2012</th>\n",
       "      <th>geometry</th>\n",
       "    </tr>\n",
       "  </thead>\n",
       "  <tbody>\n",
       "    <tr>\n",
       "      <th>0</th>\n",
       "      <td>832017</td>\n",
       "      <td>1087.0</td>\n",
       "      <td>27746</td>\n",
       "      <td>27746</td>\n",
       "      <td>11690.0</td>\n",
       "      <td>ACTIVE</td>\n",
       "      <td>0814    0018</td>\n",
       "      <td>ADDRESS</td>\n",
       "      <td>OFFICIAL</td>\n",
       "      <td>402.0</td>\n",
       "      <td>...</td>\n",
       "      <td>0.0</td>\n",
       "      <td>RESIDENTIAL</td>\n",
       "      <td>1.0</td>\n",
       "      <td>Ward 6</td>\n",
       "      <td>Ward 6</td>\n",
       "      <td>ANC 6C</td>\n",
       "      <td>ANC 6C</td>\n",
       "      <td>SMD 6C07</td>\n",
       "      <td>SMD 6C03</td>\n",
       "      <td>POINT (-77.00035 38.89220)</td>\n",
       "    </tr>\n",
       "    <tr>\n",
       "      <th>1</th>\n",
       "      <td>832018</td>\n",
       "      <td>3265.0</td>\n",
       "      <td>50808</td>\n",
       "      <td>50808</td>\n",
       "      <td>3073.0</td>\n",
       "      <td>ACTIVE</td>\n",
       "      <td>0838    0027</td>\n",
       "      <td>ADDRESS</td>\n",
       "      <td>OFFICIAL</td>\n",
       "      <td>219.0</td>\n",
       "      <td>...</td>\n",
       "      <td>0.0</td>\n",
       "      <td>RESIDENTIAL</td>\n",
       "      <td>1.0</td>\n",
       "      <td>Ward 6</td>\n",
       "      <td>Ward 6</td>\n",
       "      <td>ANC 6C</td>\n",
       "      <td>ANC 6C</td>\n",
       "      <td>SMD 6C07</td>\n",
       "      <td>SMD 6C03</td>\n",
       "      <td>POINT (-76.99925 38.89265)</td>\n",
       "    </tr>\n",
       "    <tr>\n",
       "      <th>2</th>\n",
       "      <td>832019</td>\n",
       "      <td>3266.0</td>\n",
       "      <td>51065</td>\n",
       "      <td>51065</td>\n",
       "      <td>3073.0</td>\n",
       "      <td>ACTIVE</td>\n",
       "      <td>0814    0818</td>\n",
       "      <td>ADDRESS</td>\n",
       "      <td>OFFICIAL</td>\n",
       "      <td>216.0</td>\n",
       "      <td>...</td>\n",
       "      <td>1.0</td>\n",
       "      <td>RESIDENTIAL</td>\n",
       "      <td>2.0</td>\n",
       "      <td>Ward 6</td>\n",
       "      <td>Ward 6</td>\n",
       "      <td>ANC 6C</td>\n",
       "      <td>ANC 6C</td>\n",
       "      <td>SMD 6C07</td>\n",
       "      <td>SMD 6C03</td>\n",
       "      <td>POINT (-76.99977 38.89256)</td>\n",
       "    </tr>\n",
       "  </tbody>\n",
       "</table>\n",
       "<p>3 rows × 59 columns</p>\n",
       "</div>"
      ],
      "text/plain": [
       "   OBJECTID_1  OBJECTID  SITE_ADDRE  ADDRESS_ID  ROADWAYSEG  STATUS  \\\n",
       "0      832017    1087.0       27746       27746     11690.0  ACTIVE   \n",
       "1      832018    3265.0       50808       50808      3073.0  ACTIVE   \n",
       "2      832019    3266.0       51065       51065      3073.0  ACTIVE   \n",
       "\n",
       "            SSL    TYPE_ ENTRANCETY  ADDRNUM  ... ACTIVE_RES     RES_TYPE  \\\n",
       "0  0814    0018  ADDRESS   OFFICIAL    402.0  ...        0.0  RESIDENTIAL   \n",
       "1  0838    0027  ADDRESS   OFFICIAL    219.0  ...        0.0  RESIDENTIAL   \n",
       "2  0814    0818  ADDRESS   OFFICIAL    216.0  ...        1.0  RESIDENTIAL   \n",
       "\n",
       "  ACTIVE_R_1 WARD_2002 WARD_2012 ANC_2002 ANC_2012  SMD_2002  SMD_2012  \\\n",
       "0        1.0    Ward 6    Ward 6   ANC 6C   ANC 6C  SMD 6C07  SMD 6C03   \n",
       "1        1.0    Ward 6    Ward 6   ANC 6C   ANC 6C  SMD 6C07  SMD 6C03   \n",
       "2        2.0    Ward 6    Ward 6   ANC 6C   ANC 6C  SMD 6C07  SMD 6C03   \n",
       "\n",
       "                     geometry  \n",
       "0  POINT (-77.00035 38.89220)  \n",
       "1  POINT (-76.99925 38.89265)  \n",
       "2  POINT (-76.99977 38.89256)  \n",
       "\n",
       "[3 rows x 59 columns]"
      ]
     },
     "execution_count": 15,
     "metadata": {},
     "output_type": "execute_result"
    }
   ],
   "source": [
    "addresses.head(3)"
   ]
  },
  {
   "cell_type": "code",
   "execution_count": 16,
   "metadata": {},
   "outputs": [
    {
     "data": {
      "text/plain": [
       "OBJECTID_1                                              832017\n",
       "OBJECTID                                                  1087\n",
       "SITE_ADDRE                                               27746\n",
       "ADDRESS_ID                                               27746\n",
       "ROADWAYSEG                                               11690\n",
       "STATUS                                                  ACTIVE\n",
       "SSL                                               0814    0018\n",
       "TYPE_                                                  ADDRESS\n",
       "ENTRANCETY                                            OFFICIAL\n",
       "ADDRNUM                                                    402\n",
       "ADDRNUMSUF                                                None\n",
       "STNAME                                            CONSTITUTION\n",
       "STREET_TYP                                              AVENUE\n",
       "QUADRANT                                                    NE\n",
       "CITY                                                WASHINGTON\n",
       "STATE                                                       DC\n",
       "FULLADDRES                          402 CONSTITUTION AVENUE NE\n",
       "SQUARE                                                    0814\n",
       "SUFFIX                                                    None\n",
       "LOT                                                       0018\n",
       "NATIONALGR                                  18S UJ 26516 06714\n",
       "ZIPCODE4                                                  None\n",
       "XCOORD                                                  399970\n",
       "YCOORD                                                  136038\n",
       "STATUS_ID                                                    1\n",
       "METADATA_I                                              538259\n",
       "OBJECTID_2                                                1509\n",
       "ASSESSMENT                                        Capitol Hill\n",
       "ASSESSME_1                                  009 C Capitol Hill\n",
       "CFSA_NAME     South Washington/West of the River Collaborative\n",
       "HOTSPOT                                                     NA\n",
       "CLUSTER_                                            Cluster 25\n",
       "POLDIST                       Police District - First District\n",
       "ROC                                          Police Sector 1D2\n",
       "PSA                                    Police Service Area 108\n",
       "SMD                                                   SMD 6C03\n",
       "CENSUS_TRA                                              008200\n",
       "VOTE_PRCNC                                         Precinct 89\n",
       "WARD                                                    Ward 6\n",
       "ZIPCODE                                                  20002\n",
       "ANC                                                     ANC 6C\n",
       "NEWCOMMSEL                                                None\n",
       "NEWCOMMCAN                                                None\n",
       "CENSUS_BLO                                         008200 2009\n",
       "CENSUS_B_1                                            008200 2\n",
       "FOCUS_IMPR                                                  NA\n",
       "SE_ANNO_CA                                                None\n",
       "LATITUDE                                               38.8922\n",
       "LONGITUDE                                             -77.0004\n",
       "ACTIVE_RES                                                   0\n",
       "RES_TYPE                                           RESIDENTIAL\n",
       "ACTIVE_R_1                                                   1\n",
       "WARD_2002                                               Ward 6\n",
       "WARD_2012                                               Ward 6\n",
       "ANC_2002                                                ANC 6C\n",
       "ANC_2012                                                ANC 6C\n",
       "SMD_2002                                              SMD 6C07\n",
       "SMD_2012                                              SMD 6C03\n",
       "geometry          POINT (-77.00035281712425 38.89219526837157)\n",
       "Name: 0, dtype: object"
      ]
     },
     "execution_count": 16,
     "metadata": {},
     "output_type": "execute_result"
    }
   ],
   "source": [
    "addresses.iloc[0]"
   ]
  },
  {
   "cell_type": "code",
   "execution_count": 17,
   "metadata": {},
   "outputs": [],
   "source": [
    "res_addresses = addresses[addresses.loc[:,'RES_TYPE']=='RESIDENTIAL'].copy()"
   ]
  },
  {
   "cell_type": "code",
   "execution_count": 19,
   "metadata": {},
   "outputs": [
    {
     "data": {
      "text/html": [
       "<div>\n",
       "<style scoped>\n",
       "    .dataframe tbody tr th:only-of-type {\n",
       "        vertical-align: middle;\n",
       "    }\n",
       "\n",
       "    .dataframe tbody tr th {\n",
       "        vertical-align: top;\n",
       "    }\n",
       "\n",
       "    .dataframe thead th {\n",
       "        text-align: right;\n",
       "    }\n",
       "</style>\n",
       "<table border=\"1\" class=\"dataframe\">\n",
       "  <thead>\n",
       "    <tr style=\"text-align: right;\">\n",
       "      <th></th>\n",
       "      <th>OBJECTID</th>\n",
       "      <th>SQUAREPLYI</th>\n",
       "      <th>RESERVATIO</th>\n",
       "      <th>PARCELPLYI</th>\n",
       "      <th>TAXLOTSPLY</th>\n",
       "      <th>RECORDLOTS</th>\n",
       "      <th>ADDRESS_ID</th>\n",
       "      <th>ACCOUNT_ID</th>\n",
       "      <th>RECORDATIO</th>\n",
       "      <th>SQUARE</th>\n",
       "      <th>...</th>\n",
       "      <th>PY10COLL</th>\n",
       "      <th>PY10BAL</th>\n",
       "      <th>PY10CR</th>\n",
       "      <th>OWNNAME2</th>\n",
       "      <th>DEEDS</th>\n",
       "      <th>GIS_ID</th>\n",
       "      <th>CONDOLOT</th>\n",
       "      <th>SHAPEAREA</th>\n",
       "      <th>SHAPELEN</th>\n",
       "      <th>geometry</th>\n",
       "    </tr>\n",
       "  </thead>\n",
       "  <tbody>\n",
       "    <tr>\n",
       "      <th>0</th>\n",
       "      <td>93122387</td>\n",
       "      <td>None</td>\n",
       "      <td>None</td>\n",
       "      <td>None</td>\n",
       "      <td>None</td>\n",
       "      <td>None</td>\n",
       "      <td>NaN</td>\n",
       "      <td>None</td>\n",
       "      <td>2016-07-13</td>\n",
       "      <td>4315</td>\n",
       "      <td>...</td>\n",
       "      <td>None</td>\n",
       "      <td>None</td>\n",
       "      <td>None</td>\n",
       "      <td>MAURA K GASWIRTH</td>\n",
       "      <td>None</td>\n",
       "      <td>897216.0</td>\n",
       "      <td>N</td>\n",
       "      <td>502.054648</td>\n",
       "      <td>101.049777</td>\n",
       "      <td>POLYGON ((-76.96938 38.93033, -76.96953 38.930...</td>\n",
       "    </tr>\n",
       "    <tr>\n",
       "      <th>1</th>\n",
       "      <td>93122388</td>\n",
       "      <td>None</td>\n",
       "      <td>None</td>\n",
       "      <td>None</td>\n",
       "      <td>None</td>\n",
       "      <td>None</td>\n",
       "      <td>NaN</td>\n",
       "      <td>None</td>\n",
       "      <td>1970-01-01</td>\n",
       "      <td>5612</td>\n",
       "      <td>...</td>\n",
       "      <td>None</td>\n",
       "      <td>None</td>\n",
       "      <td>None</td>\n",
       "      <td>None</td>\n",
       "      <td>None</td>\n",
       "      <td>1152981.0</td>\n",
       "      <td>N</td>\n",
       "      <td>299.952715</td>\n",
       "      <td>78.466363</td>\n",
       "      <td>POLYGON ((-76.97918 38.86652, -76.97953 38.866...</td>\n",
       "    </tr>\n",
       "    <tr>\n",
       "      <th>2</th>\n",
       "      <td>93122389</td>\n",
       "      <td>None</td>\n",
       "      <td>None</td>\n",
       "      <td>None</td>\n",
       "      <td>None</td>\n",
       "      <td>None</td>\n",
       "      <td>NaN</td>\n",
       "      <td>None</td>\n",
       "      <td>1970-01-01</td>\n",
       "      <td>1285</td>\n",
       "      <td>...</td>\n",
       "      <td>None</td>\n",
       "      <td>None</td>\n",
       "      <td>None</td>\n",
       "      <td>None</td>\n",
       "      <td>None</td>\n",
       "      <td>1142396.0</td>\n",
       "      <td>N</td>\n",
       "      <td>20000.108730</td>\n",
       "      <td>715.692934</td>\n",
       "      <td>POLYGON ((-77.05439 38.91247, -77.05460 38.911...</td>\n",
       "    </tr>\n",
       "  </tbody>\n",
       "</table>\n",
       "<p>3 rows × 238 columns</p>\n",
       "</div>"
      ],
      "text/plain": [
       "   OBJECTID SQUAREPLYI RESERVATIO PARCELPLYI TAXLOTSPLY RECORDLOTS  \\\n",
       "0  93122387       None       None       None       None       None   \n",
       "1  93122388       None       None       None       None       None   \n",
       "2  93122389       None       None       None       None       None   \n",
       "\n",
       "   ADDRESS_ID ACCOUNT_ID  RECORDATIO SQUARE  ... PY10COLL PY10BAL PY10CR  \\\n",
       "0         NaN       None  2016-07-13   4315  ...     None    None   None   \n",
       "1         NaN       None  1970-01-01   5612  ...     None    None   None   \n",
       "2         NaN       None  1970-01-01   1285  ...     None    None   None   \n",
       "\n",
       "           OWNNAME2  DEEDS     GIS_ID  CONDOLOT     SHAPEAREA    SHAPELEN  \\\n",
       "0  MAURA K GASWIRTH   None   897216.0         N    502.054648  101.049777   \n",
       "1              None   None  1152981.0         N    299.952715   78.466363   \n",
       "2              None   None  1142396.0         N  20000.108730  715.692934   \n",
       "\n",
       "                                            geometry  \n",
       "0  POLYGON ((-76.96938 38.93033, -76.96953 38.930...  \n",
       "1  POLYGON ((-76.97918 38.86652, -76.97953 38.866...  \n",
       "2  POLYGON ((-77.05439 38.91247, -77.05460 38.911...  \n",
       "\n",
       "[3 rows x 238 columns]"
      ]
     },
     "execution_count": 19,
     "metadata": {},
     "output_type": "execute_result"
    }
   ],
   "source": [
    "owner_lots.head(3)"
   ]
  },
  {
   "cell_type": "code",
   "execution_count": 28,
   "metadata": {
    "scrolled": false
   },
   "outputs": [],
   "source": [
    "res_addresses_w_assessment = res_addresses[['SSL','FULLADDRES','geometry']].merge(owner_lots[['SSL','SALEPRICE','ASSESSMENT']], how='left', on=['SSL'])"
   ]
  },
  {
   "cell_type": "code",
   "execution_count": 29,
   "metadata": {},
   "outputs": [
    {
     "data": {
      "text/html": [
       "<div>\n",
       "<style scoped>\n",
       "    .dataframe tbody tr th:only-of-type {\n",
       "        vertical-align: middle;\n",
       "    }\n",
       "\n",
       "    .dataframe tbody tr th {\n",
       "        vertical-align: top;\n",
       "    }\n",
       "\n",
       "    .dataframe thead th {\n",
       "        text-align: right;\n",
       "    }\n",
       "</style>\n",
       "<table border=\"1\" class=\"dataframe\">\n",
       "  <thead>\n",
       "    <tr style=\"text-align: right;\">\n",
       "      <th></th>\n",
       "      <th>SSL</th>\n",
       "      <th>FULLADDRES</th>\n",
       "      <th>geometry</th>\n",
       "      <th>SALEPRICE</th>\n",
       "      <th>ASSESSMENT</th>\n",
       "    </tr>\n",
       "  </thead>\n",
       "  <tbody>\n",
       "    <tr>\n",
       "      <th>0</th>\n",
       "      <td>0814    0018</td>\n",
       "      <td>402 CONSTITUTION AVENUE NE</td>\n",
       "      <td>POINT (-77.00035 38.89220)</td>\n",
       "      <td>981000.0</td>\n",
       "      <td>1114860.0</td>\n",
       "    </tr>\n",
       "    <tr>\n",
       "      <th>1</th>\n",
       "      <td>0838    0027</td>\n",
       "      <td>219 5TH STREET NE</td>\n",
       "      <td>POINT (-76.99925 38.89265)</td>\n",
       "      <td>NaN</td>\n",
       "      <td>1125190.0</td>\n",
       "    </tr>\n",
       "    <tr>\n",
       "      <th>2</th>\n",
       "      <td>0814    0818</td>\n",
       "      <td>216 5TH STREET NE</td>\n",
       "      <td>POINT (-76.99977 38.89256)</td>\n",
       "      <td>NaN</td>\n",
       "      <td>1156350.0</td>\n",
       "    </tr>\n",
       "    <tr>\n",
       "      <th>3</th>\n",
       "      <td>0838    0041</td>\n",
       "      <td>215 5TH STREET NE</td>\n",
       "      <td>POINT (-76.99923 38.89255)</td>\n",
       "      <td>1635000.0</td>\n",
       "      <td>1426700.0</td>\n",
       "    </tr>\n",
       "    <tr>\n",
       "      <th>4</th>\n",
       "      <td>0866    0013</td>\n",
       "      <td>626 CONSTITUTION AVENUE NE</td>\n",
       "      <td>POINT (-76.99746 38.89219)</td>\n",
       "      <td>NaN</td>\n",
       "      <td>1008850.0</td>\n",
       "    </tr>\n",
       "  </tbody>\n",
       "</table>\n",
       "</div>"
      ],
      "text/plain": [
       "            SSL                  FULLADDRES                    geometry  \\\n",
       "0  0814    0018  402 CONSTITUTION AVENUE NE  POINT (-77.00035 38.89220)   \n",
       "1  0838    0027           219 5TH STREET NE  POINT (-76.99925 38.89265)   \n",
       "2  0814    0818           216 5TH STREET NE  POINT (-76.99977 38.89256)   \n",
       "3  0838    0041           215 5TH STREET NE  POINT (-76.99923 38.89255)   \n",
       "4  0866    0013  626 CONSTITUTION AVENUE NE  POINT (-76.99746 38.89219)   \n",
       "\n",
       "   SALEPRICE  ASSESSMENT  \n",
       "0   981000.0   1114860.0  \n",
       "1        NaN   1125190.0  \n",
       "2        NaN   1156350.0  \n",
       "3  1635000.0   1426700.0  \n",
       "4        NaN   1008850.0  "
      ]
     },
     "execution_count": 29,
     "metadata": {},
     "output_type": "execute_result"
    }
   ],
   "source": [
    "res_addresses_w_assessment.head(5)"
   ]
  },
  {
   "cell_type": "code",
   "execution_count": 41,
   "metadata": {},
   "outputs": [
    {
     "data": {
      "text/plain": [
       "131803"
      ]
     },
     "execution_count": 41,
     "metadata": {},
     "output_type": "execute_result"
    }
   ],
   "source": [
    "len(res_addresses_w_assessment)"
   ]
  },
  {
   "cell_type": "code",
   "execution_count": 39,
   "metadata": {},
   "outputs": [],
   "source": [
    "addresses_w_price_poly = gpd.sjoin(res_addresses_w_assessment, block_polys[['group', 'SQUARE', \n",
    "                                                            'STNAME', 'SQUARE_PART', 'geometry']],op='within')"
   ]
  },
  {
   "cell_type": "code",
   "execution_count": 40,
   "metadata": {},
   "outputs": [
    {
     "data": {
      "text/plain": [
       "122315"
      ]
     },
     "execution_count": 40,
     "metadata": {},
     "output_type": "execute_result"
    }
   ],
   "source": [
    "len(addresses_w_price_poly)"
   ]
  },
  {
   "cell_type": "code",
   "execution_count": 42,
   "metadata": {},
   "outputs": [
    {
     "data": {
      "text/plain": [
       "Index(['SSL', 'FULLADDRES', 'geometry', 'SALEPRICE', 'ASSESSMENT',\n",
       "       'index_right', 'group', 'SQUARE', 'STNAME', 'SQUARE_PART'],\n",
       "      dtype='object')"
      ]
     },
     "execution_count": 42,
     "metadata": {},
     "output_type": "execute_result"
    }
   ],
   "source": [
    "addresses_w_price_poly.columns"
   ]
  },
  {
   "cell_type": "code",
   "execution_count": 47,
   "metadata": {},
   "outputs": [
    {
     "data": {
      "text/plain": [
       "17547"
      ]
     },
     "execution_count": 47,
     "metadata": {},
     "output_type": "execute_result"
    }
   ],
   "source": [
    "len(block_polys)"
   ]
  },
  {
   "cell_type": "code",
   "execution_count": 56,
   "metadata": {},
   "outputs": [],
   "source": [
    "addresses_w_block_polys = addresses_w_price_poly.groupby(['SQUARE','SQUARE_PART','group']).agg({'ASSESSMENT':np.median}).reset_index()"
   ]
  },
  {
   "cell_type": "code",
   "execution_count": 57,
   "metadata": {},
   "outputs": [],
   "source": [
    "block_polys_w_assessment = block_polys.merge(addresses_w_block_polys, how='left', on=['SQUARE','SQUARE_PART','group'])"
   ]
  },
  {
   "cell_type": "code",
   "execution_count": 58,
   "metadata": {},
   "outputs": [],
   "source": [
    "block_polys_w_assessment.to_file(\"output/block_polys_w_assessment.geojson\", driver=\"GeoJSON\")"
   ]
  },
  {
   "cell_type": "code",
   "execution_count": null,
   "metadata": {},
   "outputs": [],
   "source": []
  }
 ],
 "metadata": {
  "kernelspec": {
   "display_name": "Python (sandbox)",
   "language": "python",
   "name": "sandbox"
  },
  "language_info": {
   "codemirror_mode": {
    "name": "ipython",
    "version": 3
   },
   "file_extension": ".py",
   "mimetype": "text/x-python",
   "name": "python",
   "nbconvert_exporter": "python",
   "pygments_lexer": "ipython3",
   "version": "3.8.2"
  }
 },
 "nbformat": 4,
 "nbformat_minor": 4
}
